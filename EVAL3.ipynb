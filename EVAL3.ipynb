{
 "cells": [
  {
   "cell_type": "code",
   "execution_count": 1,
   "metadata": {},
   "outputs": [],
   "source": [
    "def get_unique_chr(input_str):\n",
    "    unique_uppercase = set()\n",
    "    unique_lowercase = set()\n",
    "    for char in input_str:\n",
    "        if char.isupper():\n",
    "            unique_uppercase.add(char)\n",
    "        elif char.islower():\n",
    "            unique_lowercase.add(char)\n",
    "        \n",
    "    print(\"UPPERCASE:\", \", \".join(sorted(unique_uppercase)))\n",
    "    print(\"Lowercase:\", \", \".join(sorted(unique_lowercase)))"
   ]
  },
  {
   "cell_type": "code",
   "execution_count": 2,
   "metadata": {},
   "outputs": [
    {
     "name": "stdout",
     "output_type": "stream",
     "text": [
      "Enter string: IshaSingh\n",
      "UPPERCASE: I, S\n",
      "Lowercase: a, g, h, i, n, s\n"
     ]
    }
   ],
   "source": [
    "user_input = input(\"Enter string: \")\n",
    "get_unique_chr(user_input)\n"
   ]
  },
  {
   "cell_type": "code",
   "execution_count": null,
   "metadata": {},
   "outputs": [],
   "source": []
  }
 ],
 "metadata": {
  "kernelspec": {
   "display_name": "Python 3",
   "language": "python",
   "name": "python3"
  },
  "language_info": {
   "codemirror_mode": {
    "name": "ipython",
    "version": 3
   },
   "file_extension": ".py",
   "mimetype": "text/x-python",
   "name": "python",
   "nbconvert_exporter": "python",
   "pygments_lexer": "ipython3",
   "version": "3.7.3"
  }
 },
 "nbformat": 4,
 "nbformat_minor": 2
}
